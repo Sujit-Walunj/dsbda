{
 "cells": [
  {
   "cell_type": "code",
   "execution_count": 1,
   "id": "de971117-bdc6-45ea-8897-578b05965885",
   "metadata": {},
   "outputs": [],
   "source": [
    "# 1. Extract Sample document and apply following document preprocessing methods:\n",
    "# Tokenization, POS Tagging, stop words removal, Stemming and Lemmatization.\n",
    "# 2. Create representation of document by calculating Term Frequency and Inverse Document \n",
    "# Frequency."
   ]
  },
  {
   "cell_type": "code",
   "execution_count": 3,
   "id": "7e43c3ea-9758-439d-85c6-470f6b3f1284",
   "metadata": {},
   "outputs": [
    {
     "name": "stderr",
     "output_type": "stream",
     "text": [
      "[nltk_data] Downloading package punkt to\n",
      "[nltk_data]     C:\\Users\\sujit\\AppData\\Roaming\\nltk_data...\n",
      "[nltk_data]   Unzipping tokenizers\\punkt.zip.\n",
      "[nltk_data] Downloading package averaged_perceptron_tagger to\n",
      "[nltk_data]     C:\\Users\\sujit\\AppData\\Roaming\\nltk_data...\n",
      "[nltk_data]   Unzipping taggers\\averaged_perceptron_tagger.zip.\n",
      "[nltk_data] Downloading package stopwords to\n",
      "[nltk_data]     C:\\Users\\sujit\\AppData\\Roaming\\nltk_data...\n",
      "[nltk_data]   Unzipping corpora\\stopwords.zip.\n",
      "[nltk_data] Downloading package wordnet to\n",
      "[nltk_data]     C:\\Users\\sujit\\AppData\\Roaming\\nltk_data...\n"
     ]
    }
   ],
   "source": [
    "import nltk\n",
    "nltk.download('punkt')\n",
    "nltk.download('averaged_perceptron_tagger')\n",
    "nltk.download('stopwords')\n",
    "nltk.download('wordnet')\n",
    "from nltk.corpus import stopwords\n",
    "from nltk.tokenize import word_tokenize\n",
    "from nltk.stem import PorterStemmer, WordNetLemmatizer\n",
    "from sklearn.feature_extraction.text import TfidfVectorizer"
   ]
  },
  {
   "cell_type": "code",
   "execution_count": 5,
   "id": "913c5c90-4d59-457e-9a2a-ddf410ee742e",
   "metadata": {},
   "outputs": [],
   "source": [
    "#sample documnet\n",
    "document = \" IN 1983, India won their first Cricket World Cup under the \" "
   ]
  },
  {
   "cell_type": "code",
   "execution_count": 7,
   "id": "d73d881a-af0d-4998-9f37-0a7327d67c86",
   "metadata": {},
   "outputs": [
    {
     "name": "stdout",
     "output_type": "stream",
     "text": [
      "['IN', '1983', ',', 'India', 'won', 'their', 'first', 'Cricket', 'World', 'Cup', 'under', 'the']\n"
     ]
    }
   ],
   "source": [
    "tokens =word_tokenize (document)\n",
    "print(tokens)"
   ]
  },
  {
   "cell_type": "code",
   "execution_count": 9,
   "id": "dfe4842d-d2d6-4a6a-84ed-696e341f47e5",
   "metadata": {},
   "outputs": [
    {
     "name": "stdout",
     "output_type": "stream",
     "text": [
      "['1983', ',', 'India', 'first', 'Cricket', 'World', 'Cup']\n"
     ]
    }
   ],
   "source": [
    "stop_words = set(stopwords.words('english'))\n",
    "filtered_tokens =[word for word in tokens if word.lower() not in stop_words]\n",
    "print(filtered_tokens)"
   ]
  },
  {
   "cell_type": "code",
   "execution_count": 11,
   "id": "f3e94d2a-1038-4545-b23f-511c987e160e",
   "metadata": {},
   "outputs": [
    {
     "name": "stdout",
     "output_type": "stream",
     "text": [
      "['1983', ',', 'india', 'first', 'cricket', 'world', 'cup']\n"
     ]
    }
   ],
   "source": [
    "stemmer= PorterStemmer()\n",
    "stemmed_tokens = [stemmer.stem (word) for word in filtered_tokens]\n",
    "print(stemmed_tokens)"
   ]
  },
  {
   "cell_type": "code",
   "execution_count": 14,
   "id": "fd7f3b44-7daa-4e96-8a52-a1c2601b218c",
   "metadata": {},
   "outputs": [
    {
     "name": "stdout",
     "output_type": "stream",
     "text": [
      "['1983', ',', 'India', 'first', 'Cricket', 'World', 'Cup']\n"
     ]
    }
   ],
   "source": [
    "lemmatizer =WordNetLemmatizer()\n",
    "lemmatized_tokens = [lemmatizer.lemmatize(word) for word in filtered_tokens] \n",
    "print(lemmatized_tokens)"
   ]
  },
  {
   "cell_type": "code",
   "execution_count": 17,
   "id": "c2bd91dd-4d86-4cd2-a38e-0a58625739d4",
   "metadata": {},
   "outputs": [],
   "source": [
    "#create representation using TF-IDF\n",
    "tfidf_vectorizer = TfidfVectorizer()\n",
    "tfidf_matrix= tfidf_vectorizer.fit_transform([''.join(lemmatized_tokens)])"
   ]
  },
  {
   "cell_type": "code",
   "execution_count": 18,
   "id": "a15f500d-6d2e-4b3c-b386-554f15564085",
   "metadata": {},
   "outputs": [],
   "source": [
    "from collections import Counter\n",
    "import math"
   ]
  },
  {
   "cell_type": "code",
   "execution_count": 20,
   "id": "de51b92c-d9ce-425b-a739-6c3fb2f6f0ca",
   "metadata": {},
   "outputs": [],
   "source": [
    "words = document.split()"
   ]
  },
  {
   "cell_type": "code",
   "execution_count": 22,
   "id": "150f49d0-a9e7-4ea0-bc92-8b08f4ecb71c",
   "metadata": {},
   "outputs": [],
   "source": [
    "#calculate term frequency for each word\n",
    "word_count = Counter (words)\n",
    "total_words = len(words)\n",
    "tf = {word: Count/total_words for word, Count in word_count.items()}"
   ]
  },
  {
   "cell_type": "code",
   "execution_count": 26,
   "id": "d4ea1079-de20-4135-bebd-3e282273a9a0",
   "metadata": {},
   "outputs": [
    {
     "name": "stdout",
     "output_type": "stream",
     "text": [
      "Term Frequency for each word: \n",
      "IN: 0.09090909090909091\n",
      "1983,: 0.09090909090909091\n",
      "India: 0.09090909090909091\n",
      "won: 0.09090909090909091\n",
      "their: 0.09090909090909091\n",
      "first: 0.09090909090909091\n",
      "Cricket: 0.09090909090909091\n",
      "World: 0.09090909090909091\n",
      "Cup: 0.09090909090909091\n",
      "under: 0.09090909090909091\n",
      "the: 0.09090909090909091\n"
     ]
    }
   ],
   "source": [
    "#print TF for each word\n",
    "print(\"Term Frequency for each word: \")\n",
    "for word, tf_value in tf.items():\n",
    "    print(f\"{word}: {tf_value}\")"
   ]
  },
  {
   "cell_type": "code",
   "execution_count": 27,
   "id": "843281b9-04ba-45e9-8fc0-f02ca7079931",
   "metadata": {},
   "outputs": [],
   "source": [
    "words = set(document.split())"
   ]
  },
  {
   "cell_type": "code",
   "execution_count": 38,
   "id": "7aa65efe-ce57-40b1-b62d-756e809279f8",
   "metadata": {},
   "outputs": [],
   "source": [
    "import math\n",
    "from collections import Counter\n",
    "\n",
    "# Count the number of documents containing each word\n",
    "documents_containing_word = Counter()\n",
    "for word in words:\n",
    "    documents_containing_word[word] += 1\n",
    "\n",
    "# Calculate inverse document frequency for each word\n",
    "total_documents = 1  # Assuming there's only one document\n",
    "idf = {word: math.log(total_documents / count) for word, count in documents_containing_word.items()}\n"
   ]
  },
  {
   "cell_type": "code",
   "execution_count": 40,
   "id": "7fdc0ae3-ffa0-400d-9fc6-b392fdb0f74b",
   "metadata": {},
   "outputs": [
    {
     "name": "stdout",
     "output_type": "stream",
     "text": [
      "Inverse Document Frequency for each word:\n",
      "Cup: 0.0\n",
      "World: 0.0\n",
      "IN: 0.0\n",
      "won: 0.0\n",
      "1983,: 0.0\n",
      "first: 0.0\n",
      "under: 0.0\n",
      "their: 0.0\n",
      "India: 0.0\n",
      "the: 0.0\n",
      "Cricket: 0.0\n"
     ]
    }
   ],
   "source": [
    "# print idf for each wprd\n",
    "print (\"Inverse Document Frequency for each word:\")\n",
    "for word, idf_value in idf.items():\n",
    "    print(f\"{word}: {idf_value}\")"
   ]
  },
  {
   "cell_type": "code",
   "execution_count": null,
   "id": "3eb0f36e-9b7c-4d47-a9ee-f7feb897bc39",
   "metadata": {},
   "outputs": [],
   "source": []
  }
 ],
 "metadata": {
  "kernelspec": {
   "display_name": "Python 3 (ipykernel)",
   "language": "python",
   "name": "python3"
  },
  "language_info": {
   "codemirror_mode": {
    "name": "ipython",
    "version": 3
   },
   "file_extension": ".py",
   "mimetype": "text/x-python",
   "name": "python",
   "nbconvert_exporter": "python",
   "pygments_lexer": "ipython3",
   "version": "3.11.7"
  }
 },
 "nbformat": 4,
 "nbformat_minor": 5
}
