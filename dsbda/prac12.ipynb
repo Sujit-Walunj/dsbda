{
 "cells": [
  {
   "cell_type": "code",
   "execution_count": 2,
   "id": "e7cc40cd-11b4-45ef-b03b-8f4c0a364781",
   "metadata": {},
   "outputs": [
    {
     "name": "stdout",
     "output_type": "stream",
     "text": [
      "Repeated words: ['is', 'contains', 'several', 'words']\n",
      "Non-repeated words: ['This', 'a', 'sample', 'paragraph.', 'It', 'words.', 'Counting', 'the', 'number', 'of', 'in', 'this', 'paragraph', 'our', 'task.']\n"
     ]
    }
   ],
   "source": [
    "def separate_words(paragraph):\n",
    "    # Split the paragraph into words\n",
    "    words = paragraph.split()\n",
    "\n",
    "    # Dictionary to store word occurrences\n",
    "    word_counts = {}\n",
    "\n",
    "    # Count occurrences of each word\n",
    "    for word in words:\n",
    "        if word in word_counts:\n",
    "            word_counts[word] += 1\n",
    "        else:\n",
    "            word_counts[word] = 1\n",
    "\n",
    "    # Separate repeated and non-repeated words\n",
    "    repeated_words = []\n",
    "    non_repeated_words = []\n",
    "    for word, count in word_counts.items():\n",
    "        if count > 1:\n",
    "            repeated_words.append(word)\n",
    "        else:\n",
    "            non_repeated_words.append(word)\n",
    "\n",
    "    return repeated_words, non_repeated_words\n",
    "\n",
    "# Example usage\n",
    "paragraph = \"This is a sample paragraph. It contains contains several words  several words. Counting the number of words in this paragraph is our task.\"\n",
    "repeated, non_repeated = separate_words(paragraph)\n",
    "print(\"Repeated words:\", repeated)\n",
    "print(\"Non-repeated words:\", non_repeated)\n"
   ]
  },
  {
   "cell_type": "code",
   "execution_count": null,
   "id": "d2547ee1-0128-4ffe-929e-443e6f0ba0f8",
   "metadata": {},
   "outputs": [],
   "source": []
  }
 ],
 "metadata": {
  "kernelspec": {
   "display_name": "Python 3 (ipykernel)",
   "language": "python",
   "name": "python3"
  },
  "language_info": {
   "codemirror_mode": {
    "name": "ipython",
    "version": 3
   },
   "file_extension": ".py",
   "mimetype": "text/x-python",
   "name": "python",
   "nbconvert_exporter": "python",
   "pygments_lexer": "ipython3",
   "version": "3.11.7"
  }
 },
 "nbformat": 4,
 "nbformat_minor": 5
}
