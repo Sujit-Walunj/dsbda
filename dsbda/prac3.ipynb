{
 "cells": [
  {
   "cell_type": "code",
   "execution_count": 1,
   "id": "532ec7a7-7f54-4ef0-b211-815d1c2cf570",
   "metadata": {},
   "outputs": [],
   "source": [
    "\n",
    "import pandas as pd\n",
    "import statistics as st\n",
    "import numpy as np\n",
    "import opendatasets as od"
   ]
  },
  {
   "cell_type": "code",
   "execution_count": 2,
   "id": "728a8f38-f020-4060-b6a6-0019c1031703",
   "metadata": {},
   "outputs": [
    {
     "name": "stdout",
     "output_type": "stream",
     "text": [
      "Please provide your Kaggle credentials to download this dataset. Learn more: http://bit.ly/kaggle-creds\n",
      "Your Kaggle username:"
     ]
    },
    {
     "name": "stdin",
     "output_type": "stream",
     "text": [
      "  sujitwalunj\n"
     ]
    },
    {
     "name": "stdout",
     "output_type": "stream",
     "text": [
      "Your Kaggle Key:"
     ]
    },
    {
     "name": "stdin",
     "output_type": "stream",
     "text": [
      "  ········\n"
     ]
    },
    {
     "name": "stdout",
     "output_type": "stream",
     "text": [
      "Dataset URL: https://www.kaggle.com/datasets/uciml/iris\n",
      "Downloading iris.zip to .\\iris\n"
     ]
    },
    {
     "name": "stderr",
     "output_type": "stream",
     "text": [
      "100%|██████████| 3.60k/3.60k [00:00<00:00, 1.85MB/s]"
     ]
    },
    {
     "name": "stdout",
     "output_type": "stream",
     "text": [
      "\n"
     ]
    },
    {
     "name": "stderr",
     "output_type": "stream",
     "text": [
      "\n"
     ]
    }
   ],
   "source": [
    "\n",
    "od.download(\"https://www.kaggle.com/datasets/uciml/iris\")\n"
   ]
  },
  {
   "cell_type": "code",
   "execution_count": 3,
   "id": "0655e2c9-fc77-42ac-ab1b-68ef3dc1cd92",
   "metadata": {},
   "outputs": [],
   "source": [
    "\n",
    "df = pd.read_csv(\"iris/Iris.csv\")\n"
   ]
  },
  {
   "cell_type": "code",
   "execution_count": 4,
   "id": "fcdad330-422c-458c-b7a7-03218d9b442d",
   "metadata": {},
   "outputs": [
    {
     "data": {
      "text/html": [
       "<div>\n",
       "<style scoped>\n",
       "    .dataframe tbody tr th:only-of-type {\n",
       "        vertical-align: middle;\n",
       "    }\n",
       "\n",
       "    .dataframe tbody tr th {\n",
       "        vertical-align: top;\n",
       "    }\n",
       "\n",
       "    .dataframe thead th {\n",
       "        text-align: right;\n",
       "    }\n",
       "</style>\n",
       "<table border=\"1\" class=\"dataframe\">\n",
       "  <thead>\n",
       "    <tr style=\"text-align: right;\">\n",
       "      <th></th>\n",
       "      <th>Id</th>\n",
       "      <th>SepalLengthCm</th>\n",
       "      <th>SepalWidthCm</th>\n",
       "      <th>PetalLengthCm</th>\n",
       "      <th>PetalWidthCm</th>\n",
       "      <th>Species</th>\n",
       "    </tr>\n",
       "  </thead>\n",
       "  <tbody>\n",
       "    <tr>\n",
       "      <th>0</th>\n",
       "      <td>1</td>\n",
       "      <td>5.1</td>\n",
       "      <td>3.5</td>\n",
       "      <td>1.4</td>\n",
       "      <td>0.2</td>\n",
       "      <td>Iris-setosa</td>\n",
       "    </tr>\n",
       "    <tr>\n",
       "      <th>1</th>\n",
       "      <td>2</td>\n",
       "      <td>4.9</td>\n",
       "      <td>3.0</td>\n",
       "      <td>1.4</td>\n",
       "      <td>0.2</td>\n",
       "      <td>Iris-setosa</td>\n",
       "    </tr>\n",
       "    <tr>\n",
       "      <th>2</th>\n",
       "      <td>3</td>\n",
       "      <td>4.7</td>\n",
       "      <td>3.2</td>\n",
       "      <td>1.3</td>\n",
       "      <td>0.2</td>\n",
       "      <td>Iris-setosa</td>\n",
       "    </tr>\n",
       "    <tr>\n",
       "      <th>3</th>\n",
       "      <td>4</td>\n",
       "      <td>4.6</td>\n",
       "      <td>3.1</td>\n",
       "      <td>1.5</td>\n",
       "      <td>0.2</td>\n",
       "      <td>Iris-setosa</td>\n",
       "    </tr>\n",
       "    <tr>\n",
       "      <th>4</th>\n",
       "      <td>5</td>\n",
       "      <td>5.0</td>\n",
       "      <td>3.6</td>\n",
       "      <td>1.4</td>\n",
       "      <td>0.2</td>\n",
       "      <td>Iris-setosa</td>\n",
       "    </tr>\n",
       "  </tbody>\n",
       "</table>\n",
       "</div>"
      ],
      "text/plain": [
       "   Id  SepalLengthCm  SepalWidthCm  PetalLengthCm  PetalWidthCm      Species\n",
       "0   1            5.1           3.5            1.4           0.2  Iris-setosa\n",
       "1   2            4.9           3.0            1.4           0.2  Iris-setosa\n",
       "2   3            4.7           3.2            1.3           0.2  Iris-setosa\n",
       "3   4            4.6           3.1            1.5           0.2  Iris-setosa\n",
       "4   5            5.0           3.6            1.4           0.2  Iris-setosa"
      ]
     },
     "execution_count": 4,
     "metadata": {},
     "output_type": "execute_result"
    }
   ],
   "source": [
    "\n",
    "df.head()\n"
   ]
  },
  {
   "cell_type": "code",
   "execution_count": 5,
   "id": "42bbcc18-8b55-43a5-9430-1dbfa7a8a247",
   "metadata": {},
   "outputs": [],
   "source": [
    "\n",
    "summary = df.groupby('Species')['SepalLengthCm'].describe()\n",
    "# It groups the data by the column 'Species' and \n",
    "# calculates summary statistics for the column 'SepalLengthCm'.\n"
   ]
  },
  {
   "cell_type": "code",
   "execution_count": 6,
   "id": "0e0e36de-244f-4374-893a-e560b6f61d81",
   "metadata": {},
   "outputs": [
    {
     "name": "stdout",
     "output_type": "stream",
     "text": [
      "                 count   mean       std  min    25%  50%  75%  max\n",
      "Species                                                           \n",
      "Iris-setosa       50.0  5.006  0.352490  4.3  4.800  5.0  5.2  5.8\n",
      "Iris-versicolor   50.0  5.936  0.516171  4.9  5.600  5.9  6.3  7.0\n",
      "Iris-virginica    50.0  6.588  0.635880  4.9  6.225  6.5  6.9  7.9\n"
     ]
    }
   ],
   "source": [
    "\n",
    "print(summary)"
   ]
  },
  {
   "cell_type": "code",
   "execution_count": 11,
   "id": "eae323d9-9f3c-4a93-9941-04511b835276",
   "metadata": {},
   "outputs": [],
   "source": [
    "def custom_describe(x):\n",
    "    mode_value = st.mode(x)\n",
    "    median_value = np.median(x)\n",
    "    return pd.Series([x.count(), x.mean(), x.std(), mode_value, median_value, x.min(), x.max()],\n",
    "                     index=['count','mean','std', 'mode', 'median', 'min', 'max'])\n"
   ]
  },
  {
   "cell_type": "code",
   "execution_count": 13,
   "id": "b4a9a90b-da7d-436d-abb0-e7f600b8665e",
   "metadata": {},
   "outputs": [
    {
     "name": "stdout",
     "output_type": "stream",
     "text": [
      "Species                \n",
      "Iris-setosa      count     50.000000\n",
      "                 mean       5.006000\n",
      "                 std        0.352490\n",
      "                 mode       5.100000\n",
      "                 median     5.000000\n",
      "                 min        4.300000\n",
      "                 max        5.800000\n",
      "Iris-versicolor  count     50.000000\n",
      "                 mean       5.936000\n",
      "                 std        0.516171\n",
      "                 mode       5.500000\n",
      "                 median     5.900000\n",
      "                 min        4.900000\n",
      "                 max        7.000000\n",
      "Iris-virginica   count     50.000000\n",
      "                 mean       6.588000\n",
      "                 std        0.635880\n",
      "                 mode       6.300000\n",
      "                 median     6.500000\n",
      "                 min        4.900000\n",
      "                 max        7.900000\n",
      "Name: SepalLengthCm, dtype: float64\n"
     ]
    }
   ],
   "source": [
    "summary_with_mode_median = df.groupby('Species')['SepalLengthCm'].apply(custom_describe)\n",
    "print(summary_with_mode_median)\n",
    "# df.groupby('Species')['SepalLengthCm']: This part of the code groups the DataFrame df by\n",
    "# the values in the 'Species' column. Then, it selects the 'SepalLengthCm'\n",
    "# column from each group."
   ]
  },
  {
   "cell_type": "code",
   "execution_count": 14,
   "id": "487be51f-0998-4393-8031-7ef734a08723",
   "metadata": {},
   "outputs": [
    {
     "name": "stdout",
     "output_type": "stream",
     "text": [
      "Mode :\n",
      "Species\n",
      "Iris-setosa        5.1\n",
      "Iris-versicolor    5.5\n",
      "Iris-virginica     6.3\n",
      "Name: SepalLengthCm, dtype: float64\n"
     ]
    }
   ],
   "source": [
    "\n",
    "mode_summary = df.groupby('Species')['SepalLengthCm'].apply(lambda x: st.mode(x))\n",
    "print(\"Mode :\")\n",
    "print(mode_summary)\n",
    "\n",
    "# apply(lambda x: st.mode(x)): This applies a lambda function to each group of \n",
    "# 'SepalLengthCm' values within each species group. The lambda function calculates \n",
    "# the mode of each group using the mode function from the statistics module (st). "
   ]
  },
  {
   "cell_type": "code",
   "execution_count": 15,
   "id": "e63670c0-97a1-4449-9248-0c1bbbe6b4a0",
   "metadata": {},
   "outputs": [
    {
     "name": "stdout",
     "output_type": "stream",
     "text": [
      "Median :\n",
      "Species\n",
      "Iris-setosa        5.0\n",
      "Iris-versicolor    5.9\n",
      "Iris-virginica     6.5\n",
      "Name: SepalLengthCm, dtype: float64\n"
     ]
    }
   ],
   "source": [
    "median_summary = df.groupby('Species')['SepalLengthCm'].median()\n",
    "print(\"Median :\")\n",
    "print(median_summary)\n",
    "    # This calculates the median for each group of 'SepalLengthCm' \n",
    "    # values within each species group."
   ]
  },
  {
   "cell_type": "code",
   "execution_count": 16,
   "id": "9c1d6429-a6d1-41c2-bb5d-8f4de7ac47ab",
   "metadata": {},
   "outputs": [
    {
     "name": "stdout",
     "output_type": "stream",
     "text": [
      "Mean :\n",
      "Species\n",
      "Iris-setosa        5.006\n",
      "Iris-versicolor    5.936\n",
      "Iris-virginica     6.588\n",
      "Name: SepalLengthCm, dtype: float64\n"
     ]
    }
   ],
   "source": [
    "\n",
    "mean_summary = df.groupby('Species')['SepalLengthCm'].mean()\n",
    "print(\"Mean :\")\n",
    "print(mean_summary)\n"
   ]
  },
  {
   "cell_type": "code",
   "execution_count": 17,
   "id": "b159f651-7bef-4060-ab54-6d0931cdb33c",
   "metadata": {},
   "outputs": [],
   "source": [
    "\n",
    "Species_numeric_value = df.groupby('Species').size().tolist()\n",
    "#This code calculates the size (number of elements) of each\n",
    "# group in the 'Species' column of the DataFrame df.\n",
    "# Then, it converts these sizes into a list."
   ]
  },
  {
   "cell_type": "code",
   "execution_count": 18,
   "id": "b6a639e3-9550-4f83-8082-ee11dbcd0d9d",
   "metadata": {},
   "outputs": [
    {
     "name": "stdout",
     "output_type": "stream",
     "text": [
      "[50, 50, 50]\n"
     ]
    }
   ],
   "source": [
    "print(Species_numeric_value)\n"
   ]
  },
  {
   "cell_type": "code",
   "execution_count": 19,
   "id": "fa7e949f-7c7e-4afa-93ae-68b15c33b8dc",
   "metadata": {},
   "outputs": [],
   "source": [
    "\n",
    "Species_stats = df.groupby('Species').describe()\n",
    "# This code computes descriptive statistics for each\n",
    "# numerical column in the DataFrame df, grouped by the 'Species' column.\n",
    "\n"
   ]
  },
  {
   "cell_type": "code",
   "execution_count": 20,
   "id": "6e9f9d4b-9cc2-49ca-b616-3709717786d3",
   "metadata": {},
   "outputs": [
    {
     "name": "stdout",
     "output_type": "stream",
     "text": [
      "                   Id                                                        \\\n",
      "                count   mean       std    min     25%    50%     75%    max   \n",
      "Species                                                                       \n",
      "Iris-setosa      50.0   25.5  14.57738    1.0   13.25   25.5   37.75   50.0   \n",
      "Iris-versicolor  50.0   75.5  14.57738   51.0   63.25   75.5   87.75  100.0   \n",
      "Iris-virginica   50.0  125.5  14.57738  101.0  113.25  125.5  137.75  150.0   \n",
      "\n",
      "                SepalLengthCm         ... PetalLengthCm      PetalWidthCm  \\\n",
      "                        count   mean  ...           75%  max        count   \n",
      "Species                               ...                                   \n",
      "Iris-setosa              50.0  5.006  ...         1.575  1.9         50.0   \n",
      "Iris-versicolor          50.0  5.936  ...         4.600  5.1         50.0   \n",
      "Iris-virginica           50.0  6.588  ...         5.875  6.9         50.0   \n",
      "\n",
      "                                                           \n",
      "                  mean       std  min  25%  50%  75%  max  \n",
      "Species                                                    \n",
      "Iris-setosa      0.244  0.107210  0.1  0.2  0.2  0.3  0.6  \n",
      "Iris-versicolor  1.326  0.197753  1.0  1.2  1.3  1.5  1.8  \n",
      "Iris-virginica   2.026  0.274650  1.4  1.8  2.0  2.3  2.5  \n",
      "\n",
      "[3 rows x 40 columns]\n"
     ]
    }
   ],
   "source": [
    "\n",
    "print(Species_stats)\n"
   ]
  },
  {
   "cell_type": "code",
   "execution_count": 21,
   "id": "55e45b53-b0f6-4078-b1e9-48d6fb9b4297",
   "metadata": {},
   "outputs": [],
   "source": [
    "\n",
    "setsoa_stats = df[df['Species'] == 'Iris-setosa'].describe()\n",
    "vericolor_stats = df[df['Species'] == 'Iris-veriscolor'].describe()\n",
    "virginica_stats = df[df['Species'] == 'Iris-virginica'].describe()\n"
   ]
  },
  {
   "cell_type": "code",
   "execution_count": 24,
   "id": "5e423b5d-7e2b-4ddd-8d22-03448efff7fb",
   "metadata": {},
   "outputs": [
    {
     "name": "stdout",
     "output_type": "stream",
     "text": [
      "Setosa Statistics\n",
      "             Id  SepalLengthCm  SepalWidthCm  PetalLengthCm  PetalWidthCm\n",
      "count  50.00000       50.00000     50.000000      50.000000      50.00000\n",
      "mean   25.50000        5.00600      3.418000       1.464000       0.24400\n",
      "std    14.57738        0.35249      0.381024       0.173511       0.10721\n",
      "min     1.00000        4.30000      2.300000       1.000000       0.10000\n",
      "25%    13.25000        4.80000      3.125000       1.400000       0.20000\n",
      "50%    25.50000        5.00000      3.400000       1.500000       0.20000\n",
      "75%    37.75000        5.20000      3.675000       1.575000       0.30000\n",
      "max    50.00000        5.80000      4.400000       1.900000       0.60000\n",
      "\n",
      "Veriscolor Statistics\n",
      "        Id  SepalLengthCm  SepalWidthCm  PetalLengthCm  PetalWidthCm\n",
      "count  0.0            0.0           0.0            0.0           0.0\n",
      "mean   NaN            NaN           NaN            NaN           NaN\n",
      "std    NaN            NaN           NaN            NaN           NaN\n",
      "min    NaN            NaN           NaN            NaN           NaN\n",
      "25%    NaN            NaN           NaN            NaN           NaN\n",
      "50%    NaN            NaN           NaN            NaN           NaN\n",
      "75%    NaN            NaN           NaN            NaN           NaN\n",
      "max    NaN            NaN           NaN            NaN           NaN\n",
      "\n",
      "Virginica Statistics\n",
      "              Id  SepalLengthCm  SepalWidthCm  PetalLengthCm  PetalWidthCm\n",
      "count   50.00000       50.00000     50.000000      50.000000      50.00000\n",
      "mean   125.50000        6.58800      2.974000       5.552000       2.02600\n",
      "std     14.57738        0.63588      0.322497       0.551895       0.27465\n",
      "min    101.00000        4.90000      2.200000       4.500000       1.40000\n",
      "25%    113.25000        6.22500      2.800000       5.100000       1.80000\n",
      "50%    125.50000        6.50000      3.000000       5.550000       2.00000\n",
      "75%    137.75000        6.90000      3.175000       5.875000       2.30000\n",
      "max    150.00000        7.90000      3.800000       6.900000       2.50000\n"
     ]
    }
   ],
   "source": [
    "print(\"Setosa Statistics\")\n",
    "print(setsoa_stats)\n",
    "print(\"\\nVeriscolor Statistics\")\n",
    "print(vericolor_stats)\n",
    "print(\"\\nVirginica Statistics\")\n",
    "print(virginica_stats)\n",
    "\n",
    "# # df[df['Species'] == 'Iris-setosa']: This filters the DataFrame df to include \n",
    "# only rows where the 'Species' column is equal to 'Iris-setosa'.\n",
    "# # .describe(): This computes summary statistics for each numerical\n",
    "#     column within the filtered DataFrame. The summary statistics include count,\n",
    "# mean, standard deviation, minimum, 25th percentile, 50th percentile (median),\n",
    "# 75th percentile, and maximum.\n",
    "# # setosa_stats: This variable stores the resulting descriptive statistics\n",
    "# DataFrame for the 'Iris-setosa' specie"
   ]
  },
  {
   "cell_type": "code",
   "execution_count": null,
   "id": "d01370dd-86c0-4079-b553-1791d0c85be8",
   "metadata": {},
   "outputs": [],
   "source": []
  }
 ],
 "metadata": {
  "kernelspec": {
   "display_name": "Python 3 (ipykernel)",
   "language": "python",
   "name": "python3"
  },
  "language_info": {
   "codemirror_mode": {
    "name": "ipython",
    "version": 3
   },
   "file_extension": ".py",
   "mimetype": "text/x-python",
   "name": "python",
   "nbconvert_exporter": "python",
   "pygments_lexer": "ipython3",
   "version": "3.11.7"
  }
 },
 "nbformat": 4,
 "nbformat_minor": 5
}
